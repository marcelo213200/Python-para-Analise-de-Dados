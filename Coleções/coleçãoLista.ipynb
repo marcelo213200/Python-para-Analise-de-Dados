{
 "metadata": {
  "language_info": {
   "codemirror_mode": {
    "name": "ipython",
    "version": 3
   },
   "file_extension": ".py",
   "mimetype": "text/x-python",
   "name": "python",
   "nbconvert_exporter": "python",
   "pygments_lexer": "ipython3",
   "version": "3.9.0-final"
  },
  "orig_nbformat": 2,
  "kernelspec": {
   "name": "python3",
   "display_name": "Python 3.9.0 64-bit",
   "metadata": {
    "interpreter": {
     "hash": "985253cd11853b6f4638715869ab647cb9b3f19ae11ba80d48e64edf94b6015a"
    }
   }
  }
 },
 "nbformat": 4,
 "nbformat_minor": 2,
 "cells": [
  {
   "cell_type": "code",
   "execution_count": 1,
   "metadata": {},
   "outputs": [],
   "source": [
    "# Listas, diferente das tuplas, são mutáveis. Podemos defini-las utilizando [] ou com a função de tipo list:\n",
    "# Listas e tuplas são semanticamente semelhantes\n"
   ]
  },
  {
   "cell_type": "code",
   "execution_count": 5,
   "metadata": {},
   "outputs": [
    {
     "output_type": "execute_result",
     "data": {
      "text/plain": [
       "['foo', 'bar', 'baz']"
      ]
     },
     "metadata": {},
     "execution_count": 5
    }
   ],
   "source": [
    "a_list = [2,3,7, None]\n",
    "tup = ('foo','bar','baz')\n",
    "b_list = list(tup)                 \n",
    "b_list"
   ]
  },
  {
   "cell_type": "code",
   "execution_count": 6,
   "metadata": {},
   "outputs": [
    {
     "output_type": "execute_result",
     "data": {
      "text/plain": [
       "['foo', 'marcelo', 'baz']"
      ]
     },
     "metadata": {},
     "execution_count": 6
    }
   ],
   "source": [
    "b_list[1] = 'marcelo'\n",
    "b_list"
   ]
  },
  {
   "cell_type": "code",
   "execution_count": 8,
   "metadata": {},
   "outputs": [],
   "source": [
    " # Função list é frequentemente usada como uma maneira de materializar um iterador ou uma expressão geradora\n",
    " "
   ]
  },
  {
   "cell_type": "code",
   "execution_count": 10,
   "metadata": {},
   "outputs": [
    {
     "output_type": "execute_result",
     "data": {
      "text/plain": [
       "range(0, 11)"
      ]
     },
     "metadata": {},
     "execution_count": 10
    }
   ],
   "source": [
    "var = range(11)\n",
    "var"
   ]
  },
  {
   "cell_type": "code",
   "execution_count": 11,
   "metadata": {},
   "outputs": [
    {
     "output_type": "execute_result",
     "data": {
      "text/plain": [
       "[0, 1, 2, 3, 4, 5, 6, 7, 8, 9, 10]"
      ]
     },
     "metadata": {},
     "execution_count": 11
    }
   ],
   "source": [
    "list(var)"
   ]
  },
  {
   "cell_type": "code",
   "execution_count": 13,
   "metadata": {},
   "outputs": [
    {
     "output_type": "execute_result",
     "data": {
      "text/plain": [
       "[0, 1, 2, 3, 4, 5, 6, 7, 8, 9, 10]"
      ]
     },
     "metadata": {},
     "execution_count": 13
    }
   ],
   "source": [
    "# OU SIMPLESMENTE                     *sem declarar uma variável*\n",
    "\n",
    "list(range(11))"
   ]
  },
  {
   "cell_type": "code",
   "execution_count": 14,
   "metadata": {},
   "outputs": [],
   "source": [
    "# Adicionando e removendo elementos\n"
   ]
  },
  {
   "cell_type": "code",
   "execution_count": 20,
   "metadata": {},
   "outputs": [
    {
     "output_type": "execute_result",
     "data": {
      "text/plain": [
       "[1, 2, 'Mar', 'Roger']"
      ]
     },
     "metadata": {},
     "execution_count": 20
    }
   ],
   "source": [
    "lista = [1,2,'Mar','Roger']\n",
    "lista"
   ]
  },
  {
   "cell_type": "code",
   "execution_count": 21,
   "metadata": {},
   "outputs": [
    {
     "output_type": "execute_result",
     "data": {
      "text/plain": [
       "[1, 2, 'Mar', 'Roger', 'Layla']"
      ]
     },
     "metadata": {},
     "execution_count": 21
    }
   ],
   "source": [
    "lista.append('Layla') #acrescenta no final\n",
    "lista"
   ]
  },
  {
   "cell_type": "code",
   "execution_count": 23,
   "metadata": {},
   "outputs": [
    {
     "output_type": "execute_result",
     "data": {
      "text/plain": [
       "[1, 'red', 2, 'Mar', 'Roger', 'Layla']"
      ]
     },
     "metadata": {},
     "execution_count": 23
    }
   ],
   "source": [
    "lista.insert(1,'red')      # insert é custosa do ponto de vista de processamento, se comparada com append\n",
    "lista"
   ]
  },
  {
   "cell_type": "code",
   "execution_count": 24,
   "metadata": {},
   "outputs": [
    {
     "output_type": "execute_result",
     "data": {
      "text/plain": [
       "'red'"
      ]
     },
     "metadata": {},
     "execution_count": 24
    }
   ],
   "source": [
    "lista.pop(1)  # remove(por meio da posição) e devolve o elemento na posição 1 da lista"
   ]
  },
  {
   "cell_type": "code",
   "execution_count": 35,
   "metadata": {},
   "outputs": [
    {
     "output_type": "execute_result",
     "data": {
      "text/plain": [
       "['1', '1', 2, 'Mar', 'Roger', 'Layla', '1']"
      ]
     },
     "metadata": {},
     "execution_count": 35
    }
   ],
   "source": [
    "#IGNORAR\n",
    "lista.insert(0,'1')\n",
    "lista"
   ]
  },
  {
   "cell_type": "code",
   "execution_count": 37,
   "metadata": {},
   "outputs": [
    {
     "output_type": "execute_result",
     "data": {
      "text/plain": [
       "['1', 2, 'Mar', 'Roger', 'Layla', '1']"
      ]
     },
     "metadata": {},
     "execution_count": 37
    }
   ],
   "source": [
    "lista.remove('1') #remove (por meio do PRIMEIRO valor) \n",
    "lista"
   ]
  },
  {
   "cell_type": "code",
   "execution_count": 38,
   "metadata": {},
   "outputs": [
    {
     "output_type": "execute_result",
     "data": {
      "text/plain": [
       "True"
      ]
     },
     "metadata": {},
     "execution_count": 38
    }
   ],
   "source": [
    "'Mar' in lista   # verifica se 'Mar' está contido na lista"
   ]
  },
  {
   "cell_type": "code",
   "execution_count": 39,
   "metadata": {},
   "outputs": [
    {
     "output_type": "execute_result",
     "data": {
      "text/plain": [
       "False"
      ]
     },
     "metadata": {},
     "execution_count": 39
    }
   ],
   "source": [
    " 'Roger' not in lista # verifica se 'Roger' não está contido na lista"
   ]
  },
  {
   "cell_type": "code",
   "execution_count": 40,
   "metadata": {},
   "outputs": [],
   "source": [
    "# VERIFICAR SE UMA LISTA CONTÉM UM VALOR É MUITO MAIS LENTO DO QUE FAZER ISSO COM DICIONÁRIOS E CONJUNTOS\n"
   ]
  },
  {
   "cell_type": "code",
   "execution_count": 42,
   "metadata": {},
   "outputs": [
    {
     "output_type": "execute_result",
     "data": {
      "text/plain": [
       "[4, None, 'Layla', 7, 8, (2, 3)]"
      ]
     },
     "metadata": {},
     "execution_count": 42
    }
   ],
   "source": [
    "# Concatenação de listas (semelhante as tuplas)\n",
    "\n",
    "[4, None, 'Layla'] + [7,8,(2,3)]"
   ]
  },
  {
   "cell_type": "code",
   "execution_count": 44,
   "metadata": {},
   "outputs": [
    {
     "output_type": "execute_result",
     "data": {
      "text/plain": [
       "[4, None, 'fall', 10, 100, (2, 3)]"
      ]
     },
     "metadata": {},
     "execution_count": 44
    }
   ],
   "source": [
    "x = [4, None, 'fall']\n",
    "x.extend([10,100,(2,3)]) # Função extend também acrescenta \n",
    "x                        "
   ]
  },
  {
   "cell_type": "code",
   "execution_count": 45,
   "metadata": {},
   "outputs": [],
   "source": [
    "# A CONCATENAÇÃO DE LISTA POR ADIÇÃO É UMA OPERAÇÃO COMPARATIVAMENTE CUSTOSA, POIS UMA NOVA LISTA DEVE SER CRIADA E OS OBJETOS DEVEM SER COPIADOS. USAR extend PARA CONCATENAR ELEMENTOS EM UMA LISTA EXISTENTE, ESPECIALMENTE SE VOCÊ ESTIVER CONSTRUINDO UMA LISTA GRANDE, EM GERAL É PREFERÍVEL!\n"
   ]
  },
  {
   "cell_type": "code",
   "execution_count": 1,
   "metadata": {},
   "outputs": [],
   "source": [
    "# Ordenação de listas\n"
   ]
  },
  {
   "cell_type": "code",
   "execution_count": 2,
   "metadata": {},
   "outputs": [
    {
     "output_type": "execute_result",
     "data": {
      "text/plain": [
       "[2, 2, 3, 3, 5, 15, 77]"
      ]
     },
     "metadata": {},
     "execution_count": 2
    }
   ],
   "source": [
    "# Função sort\n",
    "lista = [15,3,2,2,5,77,3]\n",
    "lista.sort()\n",
    "lista"
   ]
  },
  {
   "cell_type": "code",
   "execution_count": 3,
   "metadata": {},
   "outputs": [
    {
     "output_type": "execute_result",
     "data": {
      "text/plain": [
       "['luiz', 'vanuza', 'marcelo', 'estefano']"
      ]
     },
     "metadata": {},
     "execution_count": 3
    }
   ],
   "source": [
    "# função sort possui a capacidade de passar uma chave de ordenação secundária\n",
    "lista2 = ['marcelo','luiz','vanuza','estefano']\n",
    "lista2.sort(key=len)      #ordenado pelo tamanho da palavra\n",
    "lista2"
   ]
  },
  {
   "cell_type": "code",
   "execution_count": 4,
   "metadata": {},
   "outputs": [],
   "source": [
    "# módulo bisect implementa a busca binária e a inserção em uma lista ordenada. bisect.bisect encontra o local em que um elemento deve ser inserido para que a lista continue ordenada, enquanto bisect.insort insere o elemento nesse local\n"
   ]
  },
  {
   "cell_type": "code",
   "execution_count": 5,
   "metadata": {},
   "outputs": [],
   "source": [
    "import bisect"
   ]
  },
  {
   "cell_type": "code",
   "execution_count": 6,
   "metadata": {},
   "outputs": [
    {
     "output_type": "execute_result",
     "data": {
      "text/plain": [
       "4"
      ]
     },
     "metadata": {},
     "execution_count": 6
    }
   ],
   "source": [
    "c = [1,2,2,2,3,4,7]\n",
    "bisect.bisect(c,2)       #para não alterar a ordem da lista deve-se inserir o 2 na posição 4 da lista (não insere)"
   ]
  },
  {
   "cell_type": "code",
   "execution_count": 8,
   "metadata": {},
   "outputs": [
    {
     "output_type": "execute_result",
     "data": {
      "text/plain": [
       "6"
      ]
     },
     "metadata": {},
     "execution_count": 8
    }
   ],
   "source": [
    "bisect.bisect(c,5)"
   ]
  },
  {
   "cell_type": "code",
   "execution_count": 10,
   "metadata": {},
   "outputs": [
    {
     "output_type": "execute_result",
     "data": {
      "text/plain": [
       "[1, 2, 2, 2, 3, 4, 5, 5, 7]"
      ]
     },
     "metadata": {},
     "execution_count": 10
    }
   ],
   "source": [
    "bisect.insort(c,5) #inseri duas vezes sem querer\n",
    "c"
   ]
  },
  {
   "cell_type": "code",
   "execution_count": 11,
   "metadata": {},
   "outputs": [],
   "source": [
    "#Fatiamento (slicing)      start:stop\n"
   ]
  },
  {
   "cell_type": "code",
   "execution_count": 12,
   "metadata": {},
   "outputs": [
    {
     "output_type": "execute_result",
     "data": {
      "text/plain": [
       "[2, 3, 7, 5]"
      ]
     },
     "metadata": {},
     "execution_count": 12
    }
   ],
   "source": [
    "seq = [7,2,3,7,5,6,0,1]     # [1:5] pega do valor 2 ao valor 5\n",
    "seq[1:5]                    # Embora o elemento no índice start esteja incluído, o índice stop não está, de modo que o número de elementos no resultado                                será stop - start = 5 - 1 = 4 valores"
   ]
  },
  {
   "cell_type": "code",
   "execution_count": 13,
   "metadata": {},
   "outputs": [
    {
     "output_type": "execute_result",
     "data": {
      "text/plain": [
       "[7, 2, 3, 6, 3, 5, 6, 0, 1]"
      ]
     },
     "metadata": {},
     "execution_count": 13
    }
   ],
   "source": [
    "seq[3:4] = [6,3]   #substitui o valor da posição 3(7) por 6 e acrescenta o valor 3 na posição 4\n",
    "seq"
   ]
  },
  {
   "cell_type": "code",
   "execution_count": 14,
   "metadata": {},
   "outputs": [
    {
     "output_type": "execute_result",
     "data": {
      "text/plain": [
       "[7, 2, 3, 6, 3]"
      ]
     },
     "metadata": {},
     "execution_count": 14
    }
   ],
   "source": [
    "seq[:5]   # início da lista:posição 4"
   ]
  },
  {
   "cell_type": "code",
   "execution_count": 15,
   "metadata": {},
   "outputs": [
    {
     "output_type": "execute_result",
     "data": {
      "text/plain": [
       "[6, 3, 5, 6, 0, 1]"
      ]
     },
     "metadata": {},
     "execution_count": 15
    }
   ],
   "source": [
    "seq[3:] # posição 3:final da lista"
   ]
  },
  {
   "cell_type": "code",
   "execution_count": 16,
   "metadata": {},
   "outputs": [
    {
     "output_type": "execute_result",
     "data": {
      "text/plain": [
       "[5, 6, 0, 1]"
      ]
     },
     "metadata": {},
     "execution_count": 16
    }
   ],
   "source": [
    "# índices negativos fatiam a sequência em relação ao final:\n",
    "\n",
    "seq[-4:]"
   ]
  },
  {
   "cell_type": "code",
   "execution_count": 17,
   "metadata": {},
   "outputs": [
    {
     "output_type": "execute_result",
     "data": {
      "text/plain": [
       "[6, 3, 5, 6]"
      ]
     },
     "metadata": {},
     "execution_count": 17
    }
   ],
   "source": [
    "seq[-6:-2] # posição 5 de trás pra frente até a posição 2 de trás pra frente\n",
    "           # stop (não inclui) = posição 5 de trás pra frente \n",
    "           # start (inclui) = posição 2 de trás pra frente"
   ]
  },
  {
   "cell_type": "code",
   "execution_count": 18,
   "metadata": {},
   "outputs": [
    {
     "output_type": "execute_result",
     "data": {
      "text/plain": [
       "[7, 3, 3, 6, 1]"
      ]
     },
     "metadata": {},
     "execution_count": 18
    }
   ],
   "source": [
    "#step\n",
    "seq[::2]  #obtém elementos alternados - nesse caso, de dois em dois da lista\n",
    "          # lista = [7, 2, 3, 6, 3, 5, 6, 0, 1]\n",
    "          #indíces = 2  1  2  1  2  1  2  1  2     serão exibidos os valores com indíces 2, começando do início pois não se especifica o start"
   ]
  },
  {
   "cell_type": "code",
   "execution_count": 20,
   "metadata": {},
   "outputs": [
    {
     "output_type": "execute_result",
     "data": {
      "text/plain": [
       "[1, 0, 6, 5, 3, 6, 3, 2, 7]"
      ]
     },
     "metadata": {},
     "execution_count": 20
    }
   ],
   "source": [
    "# para inverter a lista ou tupla, pode-se usar o step com -1, por ex.:\n",
    "\n",
    "seq[::-1]"
   ]
  }
 ]
}