{
 "metadata": {
  "language_info": {
   "codemirror_mode": {
    "name": "ipython",
    "version": 3
   },
   "file_extension": ".py",
   "mimetype": "text/x-python",
   "name": "python",
   "nbconvert_exporter": "python",
   "pygments_lexer": "ipython3",
   "version": "3.9.0-final"
  },
  "orig_nbformat": 2,
  "kernelspec": {
   "name": "python3",
   "display_name": "Python 3.9.0 64-bit",
   "metadata": {
    "interpreter": {
     "hash": "985253cd11853b6f4638715869ab647cb9b3f19ae11ba80d48e64edf94b6015a"
    }
   }
  }
 },
 "nbformat": 4,
 "nbformat_minor": 2,
 "cells": [
  {
   "source": [
    "# \"Pareia\" os elementos de uma série de listas, tuplas ou outras sequências para criar uma lista de tuplas"
   ],
   "cell_type": "markdown",
   "metadata": {}
  },
  {
   "cell_type": "code",
   "execution_count": 3,
   "metadata": {},
   "outputs": [
    {
     "output_type": "execute_result",
     "data": {
      "text/plain": [
       "[('mar', 'celo'), ('lu', 'iz'), ('pau', 'lo')]"
      ]
     },
     "metadata": {},
     "execution_count": 3
    }
   ],
   "source": [
    "seq1 = ['mar','lu','pau']\n",
    "seq2 = ['celo','iz','lo']\n",
    "zipped = zip(seq1,seq2)\n",
    "list(zipped)"
   ]
  },
  {
   "cell_type": "code",
   "execution_count": 4,
   "metadata": {},
   "outputs": [
    {
     "output_type": "execute_result",
     "data": {
      "text/plain": [
       "[('mar', 'celo', False), ('lu', 'iz', True)]"
      ]
     },
     "metadata": {},
     "execution_count": 4
    }
   ],
   "source": [
    "seq3 = [False,True]\n",
    "list(zip(seq1,seq2,seq3))"
   ]
  },
  {
   "cell_type": "code",
   "execution_count": 5,
   "metadata": {},
   "outputs": [
    {
     "output_type": "stream",
     "name": "stdout",
     "text": [
      "0: mar,celo\n1: lu,iz\n2: pau,lo\n"
     ]
    }
   ],
   "source": [
    "for i, (a,b) in enumerate(zip(seq1,seq2)):\n",
    "    print('{0}: {1},{2}'.format(i, a, b))"
   ]
  },
  {
   "cell_type": "code",
   "execution_count": 8,
   "metadata": {},
   "outputs": [],
   "source": [
    "# Converte linhas em coluna de listas\n",
    "\n",
    "names = [('Marcelo','Augusto'),('Luiz','Gustavo'),('Paulo','Henrique')]\n",
    "first_names,last_names = zip(*names)"
   ]
  },
  {
   "cell_type": "code",
   "execution_count": 9,
   "metadata": {},
   "outputs": [
    {
     "output_type": "execute_result",
     "data": {
      "text/plain": [
       "('Marcelo', 'Luiz', 'Paulo')"
      ]
     },
     "metadata": {},
     "execution_count": 9
    }
   ],
   "source": [
    "first_names"
   ]
  },
  {
   "cell_type": "code",
   "execution_count": 10,
   "metadata": {},
   "outputs": [
    {
     "output_type": "execute_result",
     "data": {
      "text/plain": [
       "('Augusto', 'Gustavo', 'Henrique')"
      ]
     },
     "metadata": {},
     "execution_count": 10
    }
   ],
   "source": [
    "last_names"
   ]
  },
  {
   "cell_type": "code",
   "execution_count": null,
   "metadata": {},
   "outputs": [],
   "source": []
  }
 ]
}